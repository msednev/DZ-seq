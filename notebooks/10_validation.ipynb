{
 "cells": [
  {
   "cell_type": "code",
   "execution_count": 1,
   "id": "advisory-tactics",
   "metadata": {},
   "outputs": [],
   "source": [
    "import numpy as np\n",
    "import pandas as pd\n",
    "from matplotlib import pyplot as plt\n",
    "import seaborn as sns\n",
    "from scipy.stats import linregress"
   ]
  },
  {
   "cell_type": "code",
   "execution_count": 2,
   "id": "awful-screen",
   "metadata": {},
   "outputs": [],
   "source": [
    "seq_data = pd.read_csv('../output/datasets/cleavage_filtered.csv.gz')\n",
    "seq_data = seq_data.groupby(['core', 'rna', 'sub_mod']).agg(FC=('FC', np.mean),\n",
    "                                                                       FC_sd=('FC', np.std), \n",
    "                                                                       N=('core', np.count_nonzero))\n",
    "page_data = pd.read_csv('../input/kinetics_PAGE.csv')\n",
    "page_data = page_data.rename(columns={'sequence': 'core'})\n",
    "page_data = page_data.groupby(['core', 'rna', 'sub_mod']).agg(FC=('FC', np.mean),\n",
    "                                                                       FC_sd=('FC', np.std), \n",
    "                                                                       N=('core', np.count_nonzero))"
   ]
  },
  {
   "cell_type": "code",
   "execution_count": 3,
   "id": "australian-peripheral",
   "metadata": {},
   "outputs": [],
   "source": [
    "joined = seq_data.join(page_data,\n",
    "                       on=['core', 'sub_mod', 'rna'], how='inner',\n",
    "                       lsuffix='_seq').reset_index()"
   ]
  },
  {
   "cell_type": "code",
   "execution_count": 4,
   "id": "reduced-chinese",
   "metadata": {},
   "outputs": [],
   "source": [
    "slope, intercept, r, p, se = linregress(joined['FC'], joined['FC_seq'])"
   ]
  },
  {
   "cell_type": "code",
   "execution_count": 5,
   "id": "violent-field",
   "metadata": {},
   "outputs": [
    {
     "name": "stdout",
     "output_type": "stream",
     "text": [
      "slope: 1.3829580219488784\n",
      "intercept: -0.06322211731313765\n",
      "r squared: 0.910039221967861\n",
      "p-value: 1.8592159020728688e-05\n",
      "standard error: 0.15373068080608446\n"
     ]
    }
   ],
   "source": [
    "print(f'slope: {slope}')\n",
    "print(f'intercept: {intercept}')\n",
    "print(f'r squared: {r ** 2}')\n",
    "print(f'p-value: {p}')\n",
    "print(f'standard error: {se}')"
   ]
  },
  {
   "cell_type": "code",
   "execution_count": 6,
   "id": "nutritional-oakland",
   "metadata": {},
   "outputs": [
    {
     "data": {
      "image/png": "[encoded data removed]",
      "text/plain": [
       "<Figure size 360x360 with 1 Axes>"
      ]
     },
     "metadata": {
      "needs_background": "light"
     },
     "output_type": "display_data"
    }
   ],
   "source": [
    "plt.figure(figsize=(5, 5))\n",
    "plt.errorbar(x=joined['FC'],\n",
    "             y=joined['FC_seq'],\n",
    "             fmt='o',\n",
    "             yerr=joined['FC_sd_seq'],\n",
    "             xerr=joined['FC_sd'],\n",
    "             ms=10,\n",
    "             capsize=5)\n",
    "plt.plot(np.linspace(0, 1), intercept + slope * np.linspace(0, 1),\n",
    "         linestyle='--',\n",
    "         linewidth=2.5,\n",
    "         zorder=0)\n",
    "plt.xlim(0, 1)\n",
    "plt.ylim(0, 1)\n",
    "plt.xlabel('FC by PAGE', fontsize=14)\n",
    "plt.ylabel('FC by DZ-Seq', fontsize=14)\n",
    "plt.gca().spines['top'].set_visible(False)\n",
    "plt.gca().spines['right'].set_visible(False)\n",
    "plt.gca().spines['bottom'].set_linewidth(2.5)\n",
    "plt.gca().spines['left'].set_linewidth(2.5)\n",
    "plt.gca().tick_params(width=3, size=6, labelsize=14)"
   ]
  }
 ],
 "metadata": {
  "kernelspec": {
   "display_name": "Python 3 (ipykernel)",
   "language": "python",
   "name": "python3"
  },
  "language_info": {
   "codemirror_mode": {
    "name": "ipython",
    "version": 3
   },
   "file_extension": ".py",
   "mimetype": "text/x-python",
   "name": "python",
   "nbconvert_exporter": "python",
   "pygments_lexer": "ipython3",
   "version": "3.8.8"
  }
 },
 "nbformat": 4,
 "nbformat_minor": 5
}
